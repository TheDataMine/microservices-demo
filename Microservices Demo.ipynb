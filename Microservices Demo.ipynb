{
 "cells": [
  {
   "cell_type": "markdown",
   "metadata": {},
   "source": [
    "# Microservices Lecture and Demo Notebook\n",
    "## Justin A. Gould (gould29@purdue.edu)\n",
    "## January 2021\n",
    "\n",
    "This notebook will provide examples of:\n",
    "- Lecture on Microservices and APIs:\n",
    "  - What are Microservices and APIs?\n",
    "  - How to Create Microservices (in Python)\n",
    "  - Demonstrations:\n",
    "    - Modularized vs. non-modularized code\n",
    "    - Calling demo microservices from a Flask app\n",
    "      - _You **MUST** run the Flask app (`python3 app.py`) for these example to work!_\n",
    "    - Calling Internal Packages in a Demo Notebook"
   ]
  },
  {
   "cell_type": "markdown",
   "metadata": {},
   "source": [
    "# "
   ]
  },
  {
   "cell_type": "markdown",
   "metadata": {},
   "source": [
    "# What are Microservices and APIs?\n",
    "\n",
    "IBM defines microservices (or microservices architecture) as: a cloud-native architectural approach in which a single application is composed of many loosely coupled and independently deployable smaller components, or services:\n",
    " - Deployed and given an endpoint to accept an input payload and provide a response\n",
    " - Microservices can communicate with one another via REST APIs\n",
    " - Allows for code reuse by turning **modularized code** into a **callable service**"
   ]
  },
  {
   "cell_type": "markdown",
   "metadata": {},
   "source": [
    "## Microservice Architecture:\n",
    "![Microservice Architecture](./resources/images/microservice_architecture.png)"
   ]
  },
  {
   "cell_type": "markdown",
   "metadata": {},
   "source": [
    "# "
   ]
  },
  {
   "cell_type": "markdown",
   "metadata": {},
   "source": [
    "# How to Create Microservices (in Python)\n",
    "\n",
    "Creating microservices in Python is simple! All you need is modularized code, structured as a function (an example will follow below). From there, you can wrap your function into a Flask app, assign an endpoint (think of it as a URL) that accepts a given `input` to provide a desired `output`, and you're done.\n",
    "\n",
    "### Pipleline:\n",
    "**Green:** `get_data(table)`\n",
    " - Build SQL Alchemy query to retrive data from DB and return to user on screen\n",
    "\n",
    "**Red:** `add_row(table, row_list)`\n",
    " - Build SQL Alchemy query to add `row_list` as a row in `table` and commit changes to DB\n",
    "\n",
    "![RESTful Flask Pipeline](./resources/images/restful_flask_pipeline.png)\n",
    "\n",
    "### Code Hierarchy:\n",
    "![Code Hierarchy](./resources/images/code_hierarchy.png)\n",
    "- `./app.py`: Flask application (run in your terminal via `python3 app.py`\n",
    "- `./src/utils/example.py`: File containing all functions used in demo"
   ]
  },
  {
   "cell_type": "markdown",
   "metadata": {},
   "source": [
    "# "
   ]
  },
  {
   "cell_type": "markdown",
   "metadata": {},
   "source": [
    "# Demonstrations"
   ]
  },
  {
   "cell_type": "markdown",
   "metadata": {},
   "source": [
    "# Required Packages"
   ]
  },
  {
   "cell_type": "code",
   "execution_count": 1,
   "metadata": {},
   "outputs": [],
   "source": [
    "import json\n",
    "import requests\n",
    "import sys\n",
    "\n",
    "from nltk import sent_tokenize\n",
    "from spacy.lang.en import English\n",
    "nlp = English()\n",
    "tokenizer = nlp.Defaults.create_tokenizer(nlp)"
   ]
  },
  {
   "cell_type": "markdown",
   "metadata": {},
   "source": [
    "# Modularized vs. Non-Modularized Code Examples"
   ]
  },
  {
   "cell_type": "markdown",
   "metadata": {},
   "source": [
    "## Example 1: Tokenize\n",
    "\n",
    "In this example, the goal is to take an input paragraph, and return a list of (lists of) tokens for each sentence:\n",
    "```\n",
    "\"This is a sample paragraph. We need to split it into sentences and then into tokens. More to follow!\"\n",
    "==\n",
    "[\n",
    "    [\"This\", \"is\", \"a\", \"sample\", \"paragraph\", \".\"], \n",
    "    [\"We\", \"need\", \"to\", \"split\", \"it\", \"into\", \"sentences\", \"and\", \"then\", \"into, \"tokens\", \".\"], \n",
    "    [\"More\", \"to\", \"follow\", \"!\"]\n",
    "]\n",
    "```"
   ]
  },
  {
   "cell_type": "markdown",
   "metadata": {},
   "source": [
    "### Non-Modularized"
   ]
  },
  {
   "cell_type": "code",
   "execution_count": 2,
   "metadata": {},
   "outputs": [
    {
     "name": "stdout",
     "output_type": "stream",
     "text": [
      "['The', 'Washington', 'family', 'was', 'a', 'wealthy', 'Virginia', 'family', 'which', 'had', 'made', 'its', 'fortune', 'in', 'land', 'speculation', '.'] \n",
      "\n",
      "['Washington', \"'s\", 'great', '-', 'grandfather', 'John', 'Washington', 'immigrated', 'in', '1656', 'from', 'Sulgrave', ',', 'England', ',', 'to', 'the', 'English', 'colony', 'of', 'Virginia', 'where', 'he', 'accumulated', '5,000', 'acres', '(', '2,000', 'ha', ')', 'of', 'land', ',', 'including', 'Little', 'Hunting', 'Creek', 'on', 'the', 'Potomac', 'River', '.'] \n",
      "\n",
      "['George', 'Washington', 'was', 'born', 'on', 'February', '22', ',', '1732', ',', 'at', 'Popes', 'Creek', 'in', 'Westmoreland', 'County', ',', 'Virginia', ',', 'and', 'was', 'the', 'first', 'of', 'six', 'children', 'of', 'Augustine', 'and', 'Mary', 'Ball', 'Washington', '.'] \n",
      "\n"
     ]
    }
   ],
   "source": [
    "#Specify Text\n",
    "text = \"The Washington family was a wealthy Virginia family which had made its fortune in land speculation. \\\n",
    "Washington's great-grandfather John Washington immigrated in 1656 from Sulgrave, England, to the English colony \\\n",
    "of Virginia where he accumulated 5,000 acres (2,000 ha) of land, including Little Hunting Creek on the Potomac River. \\\n",
    "George Washington was born on February 22, 1732, at Popes Creek in Westmoreland County, Virginia, and was the first \\\n",
    "of six children of Augustine and Mary Ball Washington.\" #Change this every time...\n",
    "\n",
    "#Split Sentences\n",
    "sentences = sent_tokenize(text)\n",
    "\n",
    "#Tokenize Each Sentence\n",
    "all_tokens = []\n",
    "for sentence in sentences:\n",
    "    #Internal List for Each Sentence\n",
    "    tokens = []\n",
    "    \n",
    "    #Tokenize Sentence\n",
    "    tokenized = tokenizer(sentence)\n",
    "    for token in tokenized:\n",
    "        #Add to Internal List\n",
    "        tokens.append(str(token))\n",
    "        \n",
    "    #Add Internal to Overall List\n",
    "    all_tokens.append(tokens)\n",
    "\n",
    "    \n",
    "for i in all_tokens:\n",
    "    print(i, \"\\n\")"
   ]
  },
  {
   "cell_type": "markdown",
   "metadata": {},
   "source": [
    "### Modularized"
   ]
  },
  {
   "cell_type": "code",
   "execution_count": 3,
   "metadata": {},
   "outputs": [],
   "source": [
    "def split_and_tokenize(text):\n",
    "    \"\"\"\n",
    "    Goal: Create a list of list of tokens from sentence(s).\n",
    "    Input:\n",
    "      - text: String containing >= 1 sentence\n",
    "    Output:\n",
    "      - List of list of tokens from sentence(s).\n",
    "    \"\"\"\n",
    "    \n",
    "    #Split Sentences\n",
    "    sentences = sent_tokenize(text)\n",
    "\n",
    "    #Tokenize Each Sentence\n",
    "    all_tokens = []\n",
    "    for sentence in sentences:\n",
    "        #Internal List for Each Sentence\n",
    "        tokens = []\n",
    "\n",
    "        #Tokenize Sentence\n",
    "        tokenized = tokenizer(sentence)\n",
    "        for token in tokenized:\n",
    "            #Add to Internal List\n",
    "            tokens.append(str(token))\n",
    "\n",
    "        #Add Internal to Overall List\n",
    "        all_tokens.append(tokens)\n",
    "        \n",
    "    return all_tokens"
   ]
  },
  {
   "cell_type": "code",
   "execution_count": 15,
   "metadata": {},
   "outputs": [
    {
     "name": "stdout",
     "output_type": "stream",
     "text": [
      "['Perhaps', 'the', 'single', 'most', 'important', 'characteristic', 'of', 'microservices', 'is', 'that', 'because', 'the', 'services', 'are', 'smaller', 'and', 'independently', 'deployable', ',', 'it', 'no', 'longer', 'requires', 'an', 'act', 'of', 'Congress', 'in', 'order', 'to', 'change', 'a', 'line', 'of', 'text', 'in', 'application', '.'] \n",
      "\n",
      "['Microservices', 'promise', 'organizations', 'an', 'antidote', 'to', 'the', 'visceral', 'frustrations', 'associated', 'with', 'small', 'changes', 'taking', 'huge', 'amounts', 'of', 'time', '.'] \n",
      "\n",
      "['It', 'does', 'n’t', 'require', 'a', 'Ph.D.', 'in', 'computer', 'science', 'to', 'see', 'or', 'understand', 'the', 'value', 'of', 'an', 'approach', 'that', 'better', 'facilitates', 'speed', 'and', 'agility', '.'] \n",
      "\n",
      "['But', 'speed', 'is', 'n’t', 'the', 'only', 'value', 'of', 'designing', 'services', 'this', 'way', '.'] \n",
      "\n",
      "['A', 'common', 'emerging', 'organizational', 'model', 'is', 'to', 'bring', 'together', 'cross', '-', 'functional', 'teams', 'around', 'a', 'business', 'problem', ',', 'service', ',', 'or', 'product', '.'] \n",
      "\n",
      "['The', 'microservices', 'model', 'fits', 'neatly', 'with', 'this', 'trend', 'because', 'it', 'enables', 'an', 'organization', 'to', 'create', 'small', ',', 'cross', '-', 'functional', 'teams', 'around', 'one', 'service', 'or', 'a', 'collection', 'of', 'services', 'and', 'have', 'them', 'operate', 'in', 'an', 'agile', 'fashion', '.'] \n",
      "\n",
      "['Finally', ',', 'the', 'small', 'size', 'of', 'the', 'services', ',', 'combined', 'with', 'their', 'clear', 'boundaries', 'and', 'communication', 'patterns', ',', 'makes', 'it', 'easier', 'for', 'new', 'team', 'members', 'to', 'understand', 'the', 'code', 'base', 'and', 'contribute', 'to', 'it', 'quickly', '—', 'a', 'clear', 'benefit', 'in', 'terms', 'of', 'both', 'speed', 'and', 'employee', 'morale', '.'] \n",
      "\n"
     ]
    }
   ],
   "source": [
    "#Specify Text\n",
    "# text_1 = \"The Washington family was a wealthy Virginia family which had made its fortune in land speculation. \\\n",
    "# Washington's great-grandfather John Washington immigrated in 1656 from Sulgrave, England, to the English colony \\\n",
    "# of Virginia where he accumulated 5,000 acres (2,000 ha) of land, including Little Hunting Creek on the Potomac River. \\\n",
    "# George Washington was born on February 22, 1732, at Popes Creek in Westmoreland County, Virginia, and was the first \\\n",
    "# of six children of Augustine and Mary Ball Washington.\"\n",
    "\n",
    "# text_2 = \"Herbert von Karajan was an Austrian conductor. \\\n",
    "# He was principal conductor of the Berlin Philharmonic for 34 years until his death in 1989. \\\n",
    "# During the Nazi era, he debuted at the Salzburg festival, with the Vienna Philharmonic, the \\\n",
    "# Berlin Philharmonic, and during the Second World War he conducted at the Berlin State Opera.\"\n",
    "\n",
    "text_3 = \"Perhaps the single most important characteristic of microservices is that because \\\n",
    "the services are smaller and independently deployable, it no longer requires an act of \\\n",
    "Congress in order to change a line of text in application. Microservices promise organizations \\\n",
    "an antidote to the visceral frustrations associated with small changes taking huge amounts of time. \\\n",
    "It doesn’t require a Ph.D. in computer science to see or understand the value of an approach that better \\\n",
    "facilitates speed and agility. But speed isn’t the only value of designing services this way. \\\n",
    "A common emerging organizational model is to bring together cross-functional teams around a business \\\n",
    "problem, service, or product. The microservices model fits neatly with this trend because it enables an \\\n",
    "organization to create small, cross-functional teams around one service or a collection of services and \\\n",
    "have them operate in an agile fashion. Finally, the small size of the services, combined with their clear \\\n",
    "boundaries and communication patterns, makes it easier for new team members to understand the code base and \\\n",
    "contribute to it quickly—a clear benefit in terms of both speed and employee morale.\"\n",
    "\n",
    "for i in split_and_tokenize(text_3):\n",
    "    print(i, \"\\n\")"
   ]
  },
  {
   "cell_type": "markdown",
   "metadata": {},
   "source": [
    "# "
   ]
  },
  {
   "cell_type": "markdown",
   "metadata": {},
   "source": [
    "# Calling Internal Packages `(./src/utils/example.py)`"
   ]
  },
  {
   "cell_type": "markdown",
   "metadata": {},
   "source": [
    "## Define Framework Path to \"Import\" Functions from File"
   ]
  },
  {
   "cell_type": "code",
   "execution_count": 16,
   "metadata": {},
   "outputs": [],
   "source": [
    "package_path = \"./src/\"\n",
    "if package_path not in sys.path:\n",
    "    sys.path.append(package_path)\n",
    "    \n",
    "#Internal Package(s)\n",
    "from utils import example"
   ]
  },
  {
   "cell_type": "markdown",
   "metadata": {},
   "source": [
    "### Split and Tokenize Text"
   ]
  },
  {
   "cell_type": "code",
   "execution_count": 17,
   "metadata": {},
   "outputs": [
    {
     "name": "stdout",
     "output_type": "stream",
     "text": [
      "['Herbert', 'von', 'Karajan', 'was', 'an', 'Austrian', 'conductor', '.'] \n",
      "\n",
      "['He', 'was', 'principal', 'conductor', 'of', 'the', 'Berlin', 'Philharmonic', 'for', '34', 'years', 'until', 'his', 'death', 'in', '1989', '.'] \n",
      "\n",
      "['During', 'the', 'Nazi', 'era', ',', 'he', 'debuted', 'at', 'the', 'Salzburg', 'festival', ',', 'with', 'the', 'Vienna', 'Philharmonic', ',', 'the', 'Berlin', 'Philharmonic', ',', 'and', 'during', 'the', 'Second', 'World', 'War', 'he', 'conducted', 'at', 'the', 'Berlin', 'State', 'Opera', '.'] \n",
      "\n"
     ]
    }
   ],
   "source": [
    "#Split and Tokenize\n",
    "text = \"Herbert von Karajan was an Austrian conductor. \\\n",
    "He was principal conductor of the Berlin Philharmonic for 34 years until his death in 1989. \\\n",
    "During the Nazi era, he debuted at the Salzburg festival, with the Vienna Philharmonic, the \\\n",
    "Berlin Philharmonic, and during the Second World War he conducted at the Berlin State Opera.\"\n",
    "\n",
    "for i in example.split_and_tokenize(text):\n",
    "    print(i, \"\\n\")"
   ]
  },
  {
   "cell_type": "markdown",
   "metadata": {},
   "source": [
    "### Split Sentences"
   ]
  },
  {
   "cell_type": "code",
   "execution_count": 18,
   "metadata": {},
   "outputs": [
    {
     "name": "stdout",
     "output_type": "stream",
     "text": [
      "Herbert von Karajan was an Austrian conductor. \n",
      "\n",
      "He was principal conductor of the Berlin Philharmonic for 34 years until his death in 1989. \n",
      "\n",
      "During the Nazi era, he debuted at the Salzburg festival, with the Vienna Philharmonic, the Berlin Philharmonic, and during the Second World War he conducted at the Berlin State Opera. \n",
      "\n"
     ]
    }
   ],
   "source": [
    "#Split Sentences\n",
    "text = \"Herbert von Karajan was an Austrian conductor. \\\n",
    "He was principal conductor of the Berlin Philharmonic for 34 years until his death in 1989. \\\n",
    "During the Nazi era, he debuted at the Salzburg festival, with the Vienna Philharmonic, the \\\n",
    "Berlin Philharmonic, and during the Second World War he conducted at the Berlin State Opera.\"\n",
    "\n",
    "for i in example.split_sentences(text):\n",
    "    print(i, \"\\n\")"
   ]
  },
  {
   "cell_type": "markdown",
   "metadata": {},
   "source": [
    "### Tokenize Single Sentence"
   ]
  },
  {
   "cell_type": "code",
   "execution_count": 19,
   "metadata": {},
   "outputs": [
    {
     "name": "stdout",
     "output_type": "stream",
     "text": [
      "['Herbert', 'von', 'Karajan', 'was', 'an', 'Austrian', 'conductor', '.']\n"
     ]
    }
   ],
   "source": [
    "#Tokenize Sentence\n",
    "sentence = \"Herbert von Karajan was an Austrian conductor.\"\n",
    "\n",
    "print(example.tokenize(sentence))"
   ]
  },
  {
   "cell_type": "markdown",
   "metadata": {},
   "source": [
    "# "
   ]
  },
  {
   "cell_type": "markdown",
   "metadata": {},
   "source": [
    "# Call a Microservice from a Flask App"
   ]
  },
  {
   "cell_type": "markdown",
   "metadata": {},
   "source": [
    "### Split and Tokenize"
   ]
  },
  {
   "cell_type": "code",
   "execution_count": 20,
   "metadata": {},
   "outputs": [
    {
     "name": "stdout",
     "output_type": "stream",
     "text": [
      "Response JSON:  \n",
      " {'output': [['The', 'Washington', 'family', 'was', 'a', 'wealthy', 'Virginia', 'family', 'which', 'had', 'made', 'its', 'fortune', 'in', 'land', 'speculation', '.'], ['Washington', \"'s\", 'great', '-', 'grandfather', 'John', 'Washington', 'immigrated', 'in', '1656', 'from', 'Sulgrave', ',', 'England', ',', 'to', 'the', 'English', 'colony', 'of', 'Virginia', 'where', 'he', 'accumulated', '5,000', 'acres', '(', '2,000', 'ha', ')', 'of', 'land', ',', 'including', 'Little', 'Hunting', 'Creek', 'on', 'the', 'Potomac', 'River', '.'], ['George', 'Washington', 'was', 'born', 'on', 'February', '22', ',', '1732', ',', 'at', 'Popes', 'Creek', 'in', 'Westmoreland', 'County', ',', 'Virginia', ',', 'and', 'was', 'the', 'first', 'of', 'six', 'children', 'of', 'Augustine', 'and', 'Mary', 'Ball', 'Washington', '.']]} \n",
      " \n",
      "\n",
      " Split by Sentence:\n",
      "['The', 'Washington', 'family', 'was', 'a', 'wealthy', 'Virginia', 'family', 'which', 'had', 'made', 'its', 'fortune', 'in', 'land', 'speculation', '.'] \n",
      "\n",
      "['Washington', \"'s\", 'great', '-', 'grandfather', 'John', 'Washington', 'immigrated', 'in', '1656', 'from', 'Sulgrave', ',', 'England', ',', 'to', 'the', 'English', 'colony', 'of', 'Virginia', 'where', 'he', 'accumulated', '5,000', 'acres', '(', '2,000', 'ha', ')', 'of', 'land', ',', 'including', 'Little', 'Hunting', 'Creek', 'on', 'the', 'Potomac', 'River', '.'] \n",
      "\n",
      "['George', 'Washington', 'was', 'born', 'on', 'February', '22', ',', '1732', ',', 'at', 'Popes', 'Creek', 'in', 'Westmoreland', 'County', ',', 'Virginia', ',', 'and', 'was', 'the', 'first', 'of', 'six', 'children', 'of', 'Augustine', 'and', 'Mary', 'Ball', 'Washington', '.'] \n",
      "\n"
     ]
    }
   ],
   "source": [
    "#Build Request\n",
    "payload = {\"text\": text_1} #text_2, text_3\n",
    "url = \"http://127.0.0.1:5000/split_and_tokenize\"\n",
    "r = requests.post(url, data=json.dumps(payload), headers={\"content-type\":\"application/json; charset=utf-8\"})\n",
    "resp = json.loads(r.content.decode(\"utf-8\"))\n",
    "\n",
    "print(\"Response JSON: \", \"\\n\", resp, \"\\n\", \"\\n\\n\", \"Split by Sentence:\")\n",
    "for i in resp[\"output\"]:\n",
    "    print(i, \"\\n\")"
   ]
  },
  {
   "cell_type": "markdown",
   "metadata": {},
   "source": [
    "### Split Sentences"
   ]
  },
  {
   "cell_type": "code",
   "execution_count": 24,
   "metadata": {},
   "outputs": [
    {
     "name": "stdout",
     "output_type": "stream",
     "text": [
      "Response JSON:  \n",
      " {'output': ['Perhaps the single most important characteristic of microservices is that because the services are smaller and independently deployable, it no longer requires an act of Congress in order to change a line of text in application.', 'Microservices promise organizations an antidote to the visceral frustrations associated with small changes taking huge amounts of time.', 'It doesn’t require a Ph.D. in computer science to see or understand the value of an approach that better facilitates speed and agility.', 'But speed isn’t the only value of designing services this way.', 'A common emerging organizational model is to bring together cross-functional teams around a business problem, service, or product.', 'The microservices model fits neatly with this trend because it enables an organization to create small, cross-functional teams around one service or a collection of services and have them operate in an agile fashion.', 'Finally, the small size of the services, combined with their clear boundaries and communication patterns, makes it easier for new team members to understand the code base and contribute to it quickly—a clear benefit in terms of both speed and employee morale.']} \n",
      " \n",
      "\n",
      " Split by Sentence:\n",
      "Perhaps the single most important characteristic of microservices is that because the services are smaller and independently deployable, it no longer requires an act of Congress in order to change a line of text in application. \n",
      "\n",
      "Microservices promise organizations an antidote to the visceral frustrations associated with small changes taking huge amounts of time. \n",
      "\n",
      "It doesn’t require a Ph.D. in computer science to see or understand the value of an approach that better facilitates speed and agility. \n",
      "\n",
      "But speed isn’t the only value of designing services this way. \n",
      "\n",
      "A common emerging organizational model is to bring together cross-functional teams around a business problem, service, or product. \n",
      "\n",
      "The microservices model fits neatly with this trend because it enables an organization to create small, cross-functional teams around one service or a collection of services and have them operate in an agile fashion. \n",
      "\n",
      "Finally, the small size of the services, combined with their clear boundaries and communication patterns, makes it easier for new team members to understand the code base and contribute to it quickly—a clear benefit in terms of both speed and employee morale. \n",
      "\n"
     ]
    }
   ],
   "source": [
    "#Build Request\n",
    "payload = {\"text\": text_3} #text_2, text_3\n",
    "url = \"http://127.0.0.1:5000/split_sentences\"\n",
    "r = requests.post(url, data=json.dumps(payload), headers={\"content-type\":\"application/json; charset=utf-8\"})\n",
    "resp = json.loads(r.content.decode(\"utf-8\"))\n",
    "\n",
    "print(\"Response JSON: \", \"\\n\", resp, \"\\n\", \"\\n\\n\", \"Split by Sentence:\")\n",
    "for i in resp[\"output\"]:\n",
    "    print(i, \"\\n\")"
   ]
  },
  {
   "cell_type": "markdown",
   "metadata": {},
   "source": [
    "### Tokenize a Single Sentence"
   ]
  },
  {
   "cell_type": "code",
   "execution_count": 22,
   "metadata": {},
   "outputs": [
    {
     "name": "stdout",
     "output_type": "stream",
     "text": [
      "Response JSON:  \n",
      " {'output': ['Herbert', 'von', 'Karajan', 'was', 'an', 'Austrian', 'conductor', '.']}\n"
     ]
    }
   ],
   "source": [
    "#Build Request\n",
    "payload = {\"sentence\": sentence}\n",
    "url = \"http://127.0.0.1:5000/tokenize\"\n",
    "r = requests.post(url, data=json.dumps(payload), headers={\"content-type\":\"application/json; charset=utf-8\"})\n",
    "resp = json.loads(r.content.decode(\"utf-8\"))\n",
    "\n",
    "print(\"Response JSON: \", \"\\n\", resp)"
   ]
  },
  {
   "cell_type": "code",
   "execution_count": null,
   "metadata": {},
   "outputs": [],
   "source": []
  }
 ],
 "metadata": {
  "kernelspec": {
   "display_name": "Python 3",
   "language": "python",
   "name": "python3"
  },
  "language_info": {
   "codemirror_mode": {
    "name": "ipython",
    "version": 3
   },
   "file_extension": ".py",
   "mimetype": "text/x-python",
   "name": "python",
   "nbconvert_exporter": "python",
   "pygments_lexer": "ipython3",
   "version": "3.8.5"
  }
 },
 "nbformat": 4,
 "nbformat_minor": 4
}
