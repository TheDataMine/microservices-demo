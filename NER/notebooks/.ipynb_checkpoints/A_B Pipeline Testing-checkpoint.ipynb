{
 "cells": [
  {
   "cell_type": "markdown",
   "metadata": {},
   "source": [
    "# A/B Testing of NLP Pipelines\n",
    "## Justin Gould\n",
    "## April 2021"
   ]
  },
  {
   "cell_type": "markdown",
   "metadata": {},
   "source": [
    "### Managing Memory"
   ]
  },
  {
   "cell_type": "code",
   "execution_count": 1,
   "metadata": {},
   "outputs": [],
   "source": [
    "%load_ext memory_profiler"
   ]
  },
  {
   "cell_type": "markdown",
   "metadata": {},
   "source": [
    "# Required Packages"
   ]
  },
  {
   "cell_type": "code",
   "execution_count": 2,
   "metadata": {},
   "outputs": [
    {
     "name": "stdout",
     "output_type": "stream",
     "text": [
      "CPU times: user 5.41 s, sys: 2.59 s, total: 8 s\n",
      "Wall time: 13.7 s\n"
     ]
    }
   ],
   "source": [
    "%%time\n",
    "import sys\n",
    "from memory_profiler import memory_usage\n",
    "import pandas as pd\n",
    "\n",
    "#System Path\n",
    "sys.path.append(\"../\")\n",
    "\n",
    "#Pipelines\n",
    "from src import compare, approach_a, approach_b"
   ]
  },
  {
   "cell_type": "markdown",
   "metadata": {},
   "source": [
    "# Sample Texts"
   ]
  },
  {
   "cell_type": "code",
   "execution_count": 3,
   "metadata": {},
   "outputs": [],
   "source": [
    "sample = \"\"\"\n",
    "SRT010G900 overlap with 0305900SRT0807E00 overlap with 0305900SRT0706Z00 \\\n",
    "overlap with 0305900SRT0807E00 overlap with 010G900SRT0706Z00 overlap with \\\n",
    "010G900steam cleaned engine added dye and ran truck at high idle found gear \\\n",
    "cover leaking removed hood and bumper drained coolant recovered Freon removed \\\n",
    "coolant reservoir, ps reservoir, both radiator support, upper and lower rad hoses, \\\n",
    "radiator, ac compressor and bracket, alternator, fan, fan shroud, fan hub, removed \\\n",
    "and resealed gear cover reinstalled all removed parts refilled coolant and Freon ran \\\n",
    "truck at high idle no leaks repair completeOIL LEAK EXTERNALUPPER GEAR COVER GASKETLEAKS \\\n",
    "EPR Part Number:430716600 OIL1045962 THURSDAY 31OCT2019 05:00:47 AM\n",
    "\"\"\""
   ]
  },
  {
   "cell_type": "code",
   "execution_count": 3,
   "metadata": {},
   "outputs": [],
   "source": [
    "many_samples = pd.read_excel(\"/Users/gould29/OneDrive - purdue.edu/Purdue/The Data Mine/AY 2020-2021/Cummins/Causal Samples.xlsx\")"
   ]
  },
  {
   "cell_type": "code",
   "execution_count": 4,
   "metadata": {},
   "outputs": [],
   "source": [
    "#String representation of list to list\n",
    "many_samples[\"Causal Indicators\"] = [(lambda x: x.replace(\"'\", \"\").strip('][').split(', '))(x) for x in many_samples[\"Causal Indicators\"].values.tolist()]"
   ]
  },
  {
   "cell_type": "code",
   "execution_count": 5,
   "metadata": {},
   "outputs": [
    {
     "data": {
      "text/html": [
       "<div>\n",
       "<style scoped>\n",
       "    .dataframe tbody tr th:only-of-type {\n",
       "        vertical-align: middle;\n",
       "    }\n",
       "\n",
       "    .dataframe tbody tr th {\n",
       "        vertical-align: top;\n",
       "    }\n",
       "\n",
       "    .dataframe thead th {\n",
       "        text-align: right;\n",
       "    }\n",
       "</style>\n",
       "<table border=\"1\" class=\"dataframe\">\n",
       "  <thead>\n",
       "    <tr style=\"text-align: right;\">\n",
       "      <th></th>\n",
       "      <th>ID</th>\n",
       "      <th>Content</th>\n",
       "      <th>Causal Indicators</th>\n",
       "    </tr>\n",
       "  </thead>\n",
       "  <tbody>\n",
       "    <tr>\n",
       "      <th>0</th>\n",
       "      <td>501</td>\n",
       "      <td>COPY CLAIM MADE IN REF TO CONTROLE NUMBER 1225...</td>\n",
       "      <td>[]</td>\n",
       "    </tr>\n",
       "    <tr>\n",
       "      <th>1</th>\n",
       "      <td>502</td>\n",
       "      <td>SRT-11-047 OVERLAP WITH 11-011\\r SRT-19-519 OV...</td>\n",
       "      <td>[EGR Cooler]</td>\n",
       "    </tr>\n",
       "    <tr>\n",
       "      <th>2</th>\n",
       "      <td>503</td>\n",
       "      <td>PULLED THE UNIT IN AND RECORDED NUMBERS. HOOKE...</td>\n",
       "      <td>[AIR ACTUATOR, FUEL SHUTOFF VALVE, AIR SUPPLY ...</td>\n",
       "    </tr>\n",
       "    <tr>\n",
       "      <th>3</th>\n",
       "      <td>504</td>\n",
       "      <td>MICHAEL CALLED TO OPEN CLAIM  CUSTOMER COMPLAI...</td>\n",
       "      <td>[DPF]</td>\n",
       "    </tr>\n",
       "    <tr>\n",
       "      <th>4</th>\n",
       "      <td>505</td>\n",
       "      <td>ACTIVE 3697*1 INACTIVE: 2448 ECM CALIBRATION: ...</td>\n",
       "      <td>[ECM]</td>\n",
       "    </tr>\n",
       "    <tr>\n",
       "      <th>5</th>\n",
       "      <td>506</td>\n",
       "      <td>INSITE - USE DURING TROUBLESHOOTING SIGNATURE ...</td>\n",
       "      <td>[PRESSURE SENSOR, DIESEL OXIDATION CATALYST, P...</td>\n",
       "    </tr>\n",
       "  </tbody>\n",
       "</table>\n",
       "</div>"
      ],
      "text/plain": [
       "    ID                                            Content  \\\n",
       "0  501  COPY CLAIM MADE IN REF TO CONTROLE NUMBER 1225...   \n",
       "1  502  SRT-11-047 OVERLAP WITH 11-011\\r SRT-19-519 OV...   \n",
       "2  503  PULLED THE UNIT IN AND RECORDED NUMBERS. HOOKE...   \n",
       "3  504  MICHAEL CALLED TO OPEN CLAIM  CUSTOMER COMPLAI...   \n",
       "4  505  ACTIVE 3697*1 INACTIVE: 2448 ECM CALIBRATION: ...   \n",
       "5  506  INSITE - USE DURING TROUBLESHOOTING SIGNATURE ...   \n",
       "\n",
       "                                   Causal Indicators  \n",
       "0                                                 []  \n",
       "1                                       [EGR Cooler]  \n",
       "2  [AIR ACTUATOR, FUEL SHUTOFF VALVE, AIR SUPPLY ...  \n",
       "3                                              [DPF]  \n",
       "4                                              [ECM]  \n",
       "5  [PRESSURE SENSOR, DIESEL OXIDATION CATALYST, P...  "
      ]
     },
     "execution_count": 5,
     "metadata": {},
     "output_type": "execute_result"
    }
   ],
   "source": [
    "many_samples"
   ]
  },
  {
   "cell_type": "markdown",
   "metadata": {},
   "source": [
    "# Approach A"
   ]
  },
  {
   "cell_type": "code",
   "execution_count": 10,
   "metadata": {},
   "outputs": [
    {
     "name": "stdout",
     "output_type": "stream",
     "text": [
      "CPU times: user 240 ms, sys: 7.23 ms, total: 247 ms\n",
      "Wall time: 323 ms\n"
     ]
    },
    {
     "data": {
      "text/plain": [
       "['reservoir', 'gear cover']"
      ]
     },
     "execution_count": 10,
     "metadata": {},
     "output_type": "execute_result"
    }
   ],
   "source": [
    "%%time\n",
    "compare.approach_a_pipeline(sample)"
   ]
  },
  {
   "cell_type": "code",
   "execution_count": 17,
   "metadata": {},
   "outputs": [
    {
     "name": "stderr",
     "output_type": "stream",
     "text": [
      "/Users/gould29/opt/anaconda3/lib/python3.8/multiprocessing/resource_tracker.py:96: UserWarning: resource_tracker: process died unexpectedly, relaunching.  Some resources might leak.\n",
      "  warnings.warn('resource_tracker: process died unexpectedly, '\n"
     ]
    },
    {
     "name": "stdout",
     "output_type": "stream",
     "text": [
      "peak memory: 815.94 MiB, increment: 0.04 MiB\n"
     ]
    }
   ],
   "source": [
    "%%memit\n",
    "compare.approach_a_pipeline(sample)"
   ]
  },
  {
   "cell_type": "code",
   "execution_count": 20,
   "metadata": {},
   "outputs": [
    {
     "name": "stdout",
     "output_type": "stream",
     "text": [
      "[] \n",
      "\n",
      "['EGR COOLER'] \n",
      "\n",
      "['AIR ACTUATOR', 'FUEL SHUTOFF VALVE AIR SUPPLY LINE'] \n",
      "\n",
      "['DPF'] \n",
      "\n",
      "[] \n",
      "\n",
      "['PRESSURE SENSOR TUBE', 'PRESSURE SENSOR'] \n",
      "\n",
      "CPU times: user 1.06 s, sys: 762 ms, total: 1.82 s\n",
      "Wall time: 4.88 s\n"
     ]
    }
   ],
   "source": [
    "%%time\n",
    "for item in many_samples[\"Content\"].values.tolist():\n",
    "    print(compare.approach_a_pipeline(item), \"\\n\")"
   ]
  },
  {
   "cell_type": "code",
   "execution_count": 7,
   "metadata": {},
   "outputs": [
    {
     "name": "stdout",
     "output_type": "stream",
     "text": [
      "[] \n",
      "\n",
      "['EGR COOLER'] \n",
      "\n",
      "['FUEL SHUTOFF VALVE AIR SUPPLY LINE', 'AIR ACTUATOR'] \n",
      "\n",
      "['DPF'] \n",
      "\n",
      "[] \n",
      "\n",
      "['PRESSURE SENSOR', 'PRESSURE SENSOR TUBE'] \n",
      "\n",
      "peak memory: 764.04 MiB, increment: 4.57 MiB\n"
     ]
    }
   ],
   "source": [
    "%%memit\n",
    "for item in many_samples[\"Content\"].values.tolist():\n",
    "    print(compare.approach_a_pipeline(item), \"\\n\")"
   ]
  },
  {
   "cell_type": "markdown",
   "metadata": {},
   "source": [
    "# Approach B"
   ]
  },
  {
   "cell_type": "code",
   "execution_count": 7,
   "metadata": {},
   "outputs": [
    {
     "name": "stdout",
     "output_type": "stream",
     "text": [
      "CPU times: user 16.6 ms, sys: 3.77 ms, total: 20.4 ms\n",
      "Wall time: 133 ms\n"
     ]
    },
    {
     "data": {
      "text/plain": [
       "['reservoir', 'reservoir']"
      ]
     },
     "execution_count": 7,
     "metadata": {},
     "output_type": "execute_result"
    }
   ],
   "source": [
    "%%time\n",
    "compare.approach_b_pipeline(sample)"
   ]
  },
  {
   "cell_type": "code",
   "execution_count": 18,
   "metadata": {},
   "outputs": [
    {
     "name": "stdout",
     "output_type": "stream",
     "text": [
      "peak memory: 815.94 MiB, increment: 0.00 MiB\n"
     ]
    }
   ],
   "source": [
    "%%memit\n",
    "compare.approach_b_pipeline(sample)"
   ]
  },
  {
   "cell_type": "code",
   "execution_count": 21,
   "metadata": {},
   "outputs": [
    {
     "name": "stdout",
     "output_type": "stream",
     "text": [
      "[] \n",
      "\n",
      "['egr cooler', 'egr cooler'] \n",
      "\n",
      "['fuel shutoff valve air supply line'] \n",
      "\n",
      "['dpf', 'dpf', 'dpf', 'dpf', 'dpf'] \n",
      "\n",
      "[] \n",
      "\n",
      "['air intake'] \n",
      "\n",
      "CPU times: user 90.4 ms, sys: 81.9 ms, total: 172 ms\n",
      "Wall time: 824 ms\n"
     ]
    }
   ],
   "source": [
    "%%time\n",
    "for item in many_samples[\"Content\"].values.tolist():\n",
    "    print(compare.approach_b_pipeline(item), \"\\n\")"
   ]
  },
  {
   "cell_type": "code",
   "execution_count": 6,
   "metadata": {},
   "outputs": [
    {
     "name": "stdout",
     "output_type": "stream",
     "text": [
      "[] \n",
      "\n",
      "['egr cooler', 'egr cooler'] \n",
      "\n",
      "['fuel shutoff valve air supply line'] \n",
      "\n",
      "['dpf', 'dpf', 'dpf', 'dpf', 'dpf'] \n",
      "\n",
      "[] \n",
      "\n",
      "['air intake'] \n",
      "\n",
      "peak memory: 703.31 MiB, increment: 0.52 MiB\n"
     ]
    }
   ],
   "source": [
    "%%memit\n",
    "for item in many_samples[\"Content\"].values.tolist():\n",
    "    print(compare.approach_b_pipeline(item), \"\\n\")"
   ]
  }
 ],
 "metadata": {
  "kernelspec": {
   "display_name": "Python 3",
   "language": "python",
   "name": "python3"
  },
  "language_info": {
   "codemirror_mode": {
    "name": "ipython",
    "version": 3
   },
   "file_extension": ".py",
   "mimetype": "text/x-python",
   "name": "python",
   "nbconvert_exporter": "python",
   "pygments_lexer": "ipython3",
   "version": "3.8.5"
  }
 },
 "nbformat": 4,
 "nbformat_minor": 4
}
