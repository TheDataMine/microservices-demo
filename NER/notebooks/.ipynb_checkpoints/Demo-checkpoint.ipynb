{
 "cells": [
  {
   "cell_type": "markdown",
   "id": "pleasant-frederick",
   "metadata": {},
   "source": [
    "# Named Entity Recognition Demo\n",
    "## Justin A. Gould\n",
    "## March 2021"
   ]
  },
  {
   "cell_type": "markdown",
   "id": "intense-pricing",
   "metadata": {},
   "source": [
    "# Required Packages"
   ]
  },
  {
   "cell_type": "code",
   "execution_count": 1,
   "id": "auburn-workstation",
   "metadata": {},
   "outputs": [
    {
     "name": "stdout",
     "output_type": "stream",
     "text": [
      "Wall time: 28 s\n"
     ]
    }
   ],
   "source": [
    "%%time\n",
    "import sys\n",
    "sys.path.append(\"../\")\n",
    "\n",
    "from src import model"
   ]
  },
  {
   "cell_type": "markdown",
   "id": "saved-stanley",
   "metadata": {},
   "source": [
    "# Sample Text"
   ]
  },
  {
   "cell_type": "code",
   "execution_count": 2,
   "id": "latin-newman",
   "metadata": {},
   "outputs": [],
   "source": [
    "sample = \"\"\"\n",
    "SRT010G900 overlap with 0305900SRT0807E00 overlap with 0305900SRT0706Z00 \\\n",
    "overlap with 0305900SRT0807E00 overlap with 010G900SRT0706Z00 overlap with \\\n",
    "010G900steam cleaned engine added dye and ran truck at high idle found gear \\\n",
    "cover leaking removed hood and bumper drained coolant recovered Freon removed \\\n",
    "coolant reservoir, ps reservoir, both radiator support, upper and lower rad hoses, \\\n",
    "radiator, ac compressor and bracket, alternator, fan, fan shroud, fan hub, removed \\\n",
    "and resealed gear cover reinstalled all removed parts refilled coolant and Freon ran \\\n",
    "truck at high idle no leaks repair completeOIL LEAK EXTERNALUPPER GEAR COVER GASKETLEAKS \\\n",
    "EPR Part Number:430716600 OIL1045962 THURSDAY 31OCT2019 05:00:47 AM\n",
    "\"\"\""
   ]
  },
  {
   "cell_type": "markdown",
   "id": "excessive-sewing",
   "metadata": {},
   "source": [
    "## Payload 1"
   ]
  },
  {
   "cell_type": "code",
   "execution_count": 3,
   "id": "nutritional-protection",
   "metadata": {},
   "outputs": [
    {
     "data": {
      "text/plain": [
       "{'PART_NAME': ['gear cover',\n",
       "  'reservoir',\n",
       "  'reservoir',\n",
       "  'radiator',\n",
       "  'fan shroud',\n",
       "  'fan hub',\n",
       "  'gear cover',\n",
       "  'GEAR COVER'],\n",
       " 'PART_NUM': [430716600],\n",
       " 'DATE': ['THURSDAY 31OCT2019'],\n",
       " 'TIMESTAMP': ['05:00:47 AM']}"
      ]
     },
     "execution_count": 3,
     "metadata": {},
     "output_type": "execute_result"
    }
   ],
   "source": [
    "params = {\n",
    "    \"text\"            : sample,\n",
    "    \"part_num_to_int\" : True\n",
    "}\n",
    "\n",
    "model.ner(params)"
   ]
  },
  {
   "cell_type": "markdown",
   "id": "grateful-training",
   "metadata": {},
   "source": [
    "## Payload 2"
   ]
  },
  {
   "cell_type": "code",
   "execution_count": 4,
   "id": "moving-strategy",
   "metadata": {},
   "outputs": [
    {
     "data": {
      "text/plain": [
       "{'PART_NAME': ['gear cover',\n",
       "  'reservoir',\n",
       "  'reservoir',\n",
       "  'radiator',\n",
       "  'fan shroud',\n",
       "  'fan hub',\n",
       "  'gear cover',\n",
       "  'GEAR COVER'],\n",
       " 'PART_NUM': ['430716600'],\n",
       " 'DATE': ['THURSDAY 31OCT2019'],\n",
       " 'TIMESTAMP': ['05:00:47 AM']}"
      ]
     },
     "execution_count": 4,
     "metadata": {},
     "output_type": "execute_result"
    }
   ],
   "source": [
    "params = {\n",
    "    \"text\" : sample\n",
    "}\n",
    "\n",
    "model.ner(params)"
   ]
  },
  {
   "cell_type": "code",
   "execution_count": null,
   "id": "alert-terry",
   "metadata": {},
   "outputs": [],
   "source": []
  }
 ],
 "metadata": {
  "kernelspec": {
   "display_name": "Python 3",
   "language": "python",
   "name": "python3"
  },
  "language_info": {
   "codemirror_mode": {
    "name": "ipython",
    "version": 3
   },
   "file_extension": ".py",
   "mimetype": "text/x-python",
   "name": "python",
   "nbconvert_exporter": "python",
   "pygments_lexer": "ipython3",
   "version": "3.8.5"
  }
 },
 "nbformat": 4,
 "nbformat_minor": 5
}
