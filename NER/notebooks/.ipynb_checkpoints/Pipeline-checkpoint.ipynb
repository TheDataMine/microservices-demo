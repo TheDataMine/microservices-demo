{
 "cells": [
  {
   "cell_type": "markdown",
   "metadata": {},
   "source": [
    "# NLP Pipeline\n",
    "## Justin A. Gould\n",
    "## April 2021"
   ]
  },
  {
   "cell_type": "markdown",
   "metadata": {},
   "source": [
    "# Required Packages"
   ]
  },
  {
   "cell_type": "code",
   "execution_count": 3,
   "metadata": {},
   "outputs": [
    {
     "name": "stdout",
     "output_type": "stream",
     "text": [
      "CPU times: user 3.54 s, sys: 1.23 s, total: 4.77 s\n",
      "Wall time: 6.45 s\n"
     ]
    }
   ],
   "source": [
    "%%time\n",
    "import sys\n",
    "import spacy\n",
    "import pandas as pd\n",
    "import numpy as np \n",
    "import os\n",
    "import re\n",
    "\n",
    "#System Path\n",
    "sys.path.append(\"../\")\n",
    "\n",
    "#NER Model\n",
    "from src import ner, polarity"
   ]
  },
  {
   "cell_type": "markdown",
   "metadata": {},
   "source": [
    "# Sample Text"
   ]
  },
  {
   "cell_type": "code",
   "execution_count": 2,
   "metadata": {},
   "outputs": [],
   "source": [
    "sample = \"\"\"\n",
    "SRT010G900 overlap with 0305900SRT0807E00 overlap with 0305900SRT0706Z00 \\\n",
    "overlap with 0305900SRT0807E00 overlap with 010G900SRT0706Z00 overlap with \\\n",
    "010G900steam cleaned engine added dye and ran truck at high idle found gear \\\n",
    "cover leaking removed hood and bumper drained coolant recovered Freon removed \\\n",
    "coolant reservoir, ps reservoir, both radiator support, upper and lower rad hoses, \\\n",
    "radiator, ac compressor and bracket, alternator, fan, fan shroud, fan hub, removed \\\n",
    "and resealed gear cover reinstalled all removed parts refilled coolant and Freon ran \\\n",
    "truck at high idle no leaks repair completeOIL LEAK EXTERNALUPPER GEAR COVER GASKETLEAKS \\\n",
    "EPR Part Number:430716600 OIL1045962 THURSDAY 31OCT2019 05:00:47 AM\n",
    "\"\"\""
   ]
  },
  {
   "cell_type": "markdown",
   "metadata": {},
   "source": [
    "# Original"
   ]
  },
  {
   "cell_type": "markdown",
   "metadata": {},
   "source": [
    "## Run NER Model"
   ]
  },
  {
   "cell_type": "code",
   "execution_count": 3,
   "metadata": {},
   "outputs": [],
   "source": [
    "params = {\n",
    "    \"text\"            : sample,\n",
    "    \"part_num_to_int\" : True\n",
    "}\n",
    "\n",
    "entities = ner.ner(params)"
   ]
  },
  {
   "cell_type": "code",
   "execution_count": 4,
   "metadata": {},
   "outputs": [
    {
     "data": {
      "text/plain": [
       "{'PART_NAME': ['radiator',\n",
       "  'gear cover',\n",
       "  'GEAR COVER',\n",
       "  'reservoir',\n",
       "  'fan hub',\n",
       "  'fan shroud'],\n",
       " 'PART_NUM': [430716600],\n",
       " 'DATE': ['THURSDAY 31OCT2019'],\n",
       " 'TIMESTAMP': ['05:00:47 AM']}"
      ]
     },
     "execution_count": 4,
     "metadata": {},
     "output_type": "execute_result"
    }
   ],
   "source": [
    "entities"
   ]
  },
  {
   "cell_type": "markdown",
   "metadata": {},
   "source": [
    "## Dependency Parsing\n",
    "_REPLACE WITH DP TEAM MODEL_"
   ]
  },
  {
   "cell_type": "code",
   "execution_count": 5,
   "metadata": {},
   "outputs": [],
   "source": [
    "#Load Model\n",
    "dp_model = spacy.load('en_core_web_sm')"
   ]
  },
  {
   "cell_type": "code",
   "execution_count": 6,
   "metadata": {},
   "outputs": [],
   "source": [
    "#Run Model\n",
    "def dp(text):\n",
    "    doc = dp_model(text)\n",
    "    \n",
    "    data_dp = {}\n",
    "    for token in doc:\n",
    "        if token.dep_ in [\"amod\", \"ccomp\", \"acl\", \"nsubj\"]:\n",
    "            noun = str(token.head)\n",
    "            verb = str(token.text)\n",
    "            \n",
    "            #Block to append to dictionary------\n",
    "            #Existing label append to list...\n",
    "            if noun in data_dp:\n",
    "                data_dp[noun].append(verb)\n",
    "\n",
    "            #If label does not exist, create\n",
    "            else:\n",
    "                data_dp[noun] = [verb]\n",
    "            \n",
    "    #Remove Duplicated\n",
    "    for key in data_dp:\n",
    "        data_dp[key] = list(set(data_dp[key]))\n",
    "                \n",
    "    return data_dp"
   ]
  },
  {
   "cell_type": "code",
   "execution_count": 7,
   "metadata": {},
   "outputs": [
    {
     "data": {
      "text/plain": [
       "{'overlap': ['SRT010G900'],\n",
       " 'engine': ['cleaned'],\n",
       " 'idle': ['high'],\n",
       " 'found': ['idle', 'leaking'],\n",
       " 'hood': ['removed'],\n",
       " 'coolant': ['recovered', 'removed', 'drained'],\n",
       " 'support': ['upper'],\n",
       " 'cover': ['removed'],\n",
       " 'reinstalled': ['cover'],\n",
       " 'parts': ['removed'],\n",
       " 'ran': ['Freon'],\n",
       " 'repair': ['idle'],\n",
       " 'EPR': ['GASKETLEAKS']}"
      ]
     },
     "execution_count": 7,
     "metadata": {},
     "output_type": "execute_result"
    }
   ],
   "source": [
    "dp_dict = dp(sample)\n",
    "dp_dict"
   ]
  },
  {
   "cell_type": "markdown",
   "metadata": {},
   "source": [
    "## Map DP to NER"
   ]
  },
  {
   "cell_type": "code",
   "execution_count": 8,
   "metadata": {},
   "outputs": [],
   "source": [
    "def map_dp_and_ner(dp_dict, entities):\n",
    "    data = {}\n",
    "    #Loop through DP Output\n",
    "    for dp_part in dp_dict:\n",
    "        #Loop through NER Parts Extracted\n",
    "        for part in entities[\"PART_NAME\"]:\n",
    "            part_in_dp_and_ner = ((dp_part in part) | (part in dp_part))\n",
    "\n",
    "            if part_in_dp_and_ner is True:\n",
    "                data[part] = dp_dict[dp_part]\n",
    "        \n",
    "    return data"
   ]
  },
  {
   "cell_type": "code",
   "execution_count": 10,
   "metadata": {},
   "outputs": [
    {
     "data": {
      "text/plain": [
       "{'gear cover': ['removed']}"
      ]
     },
     "execution_count": 10,
     "metadata": {},
     "output_type": "execute_result"
    }
   ],
   "source": [
    "dp_mapped = map_dp_and_ner(dp_dict, entities)\n",
    "dp_mapped"
   ]
  },
  {
   "cell_type": "markdown",
   "metadata": {},
   "source": [
    "## Polarity Analysis of Verbs"
   ]
  },
  {
   "cell_type": "code",
   "execution_count": null,
   "metadata": {},
   "outputs": [],
   "source": [
    "params = {\n",
    "    \"input_dict\" : dp_mapped\n",
    "}\n",
    "\n",
    "polarity_ = polarity.predict_polarity(params)"
   ]
  },
  {
   "cell_type": "code",
   "execution_count": 2,
   "metadata": {},
   "outputs": [],
   "source": [
    "polarity_= {'non_positive_parts': ['gear cover'],\n",
    " 'polarity': {'gear cover': {'removed': 'Non-positive'}}}"
   ]
  },
  {
   "cell_type": "markdown",
   "metadata": {},
   "source": [
    "## Named Entity Linking"
   ]
  },
  {
   "cell_type": "code",
   "execution_count": null,
   "metadata": {},
   "outputs": [],
   "source": []
  }
 ],
 "metadata": {
  "kernelspec": {
   "display_name": "Python 3",
   "language": "python",
   "name": "python3"
  },
  "language_info": {
   "codemirror_mode": {
    "name": "ipython",
    "version": 3
   },
   "file_extension": ".py",
   "mimetype": "text/x-python",
   "name": "python",
   "nbconvert_exporter": "python",
   "pygments_lexer": "ipython3",
   "version": "3.8.5"
  }
 },
 "nbformat": 4,
 "nbformat_minor": 5
}
