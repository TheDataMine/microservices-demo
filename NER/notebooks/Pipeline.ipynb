{
 "cells": [
  {
   "cell_type": "markdown",
   "metadata": {},
   "source": [
    "# NLP Pipeline\n",
    "## Justin A. Gould\n",
    "## April 2021"
   ]
  },
  {
   "cell_type": "markdown",
   "metadata": {},
   "source": [
    "# Required Packages"
   ]
  },
  {
   "cell_type": "code",
   "execution_count": 3,
   "metadata": {},
   "outputs": [
    {
     "name": "stdout",
     "output_type": "stream",
     "text": [
      "CPU times: user 87 µs, sys: 168 µs, total: 255 µs\n",
      "Wall time: 283 µs\n"
     ]
    }
   ],
   "source": [
    "%%time\n",
    "import sys\n",
    "import requests\n",
    "import json\n",
    "\n",
    "#System Path\n",
    "sys.path.append(\"../\")\n",
    "\n",
    "#NER Model\n",
    "from src import polarity"
   ]
  },
  {
   "cell_type": "markdown",
   "metadata": {},
   "source": [
    "# Sample Text"
   ]
  },
  {
   "cell_type": "code",
   "execution_count": 4,
   "metadata": {},
   "outputs": [],
   "source": [
    "sample = \"\"\"\n",
    "SRT010G900 overlap with 0305900SRT0807E00 overlap with 0305900SRT0706Z00 \\\n",
    "overlap with 0305900SRT0807E00 overlap with 010G900SRT0706Z00 overlap with \\\n",
    "010G900steam cleaned engine added dye and ran truck at high idle found gear \\\n",
    "cover leaking removed hood and bumper drained coolant recovered Freon removed \\\n",
    "coolant reservoir, ps reservoir, both radiator support, upper and lower rad hoses, \\\n",
    "radiator, ac compressor and bracket, alternator, fan, fan shroud, fan hub, removed \\\n",
    "and resealed gear cover reinstalled all removed parts refilled coolant and Freon ran \\\n",
    "truck at high idle no leaks repair completeOIL LEAK EXTERNALUPPER GEAR COVER GASKETLEAKS \\\n",
    "EPR Part Number:430716600 OIL1045962 THURSDAY 31OCT2019 05:00:47 AM\n",
    "\"\"\""
   ]
  },
  {
   "cell_type": "markdown",
   "metadata": {},
   "source": [
    "# Original"
   ]
  },
  {
   "cell_type": "markdown",
   "metadata": {},
   "source": [
    "## Run NER Model"
   ]
  },
  {
   "cell_type": "code",
   "execution_count": 5,
   "metadata": {},
   "outputs": [],
   "source": [
    "payload = {\n",
    "    \"text\"            : sample,\n",
    "    \"part_num_to_int\" : True\n",
    "}\n",
    "\n",
    "url = \"http://127.0.0.1:5000/ner\"\n",
    "r = requests.post(url, data=json.dumps(payload), headers={\"content-type\":\"application/json; charset=utf-8\"})\n",
    "resp = json.loads(r.content.decode(\"utf-8\"))"
   ]
  },
  {
   "cell_type": "code",
   "execution_count": 6,
   "metadata": {},
   "outputs": [
    {
     "data": {
      "text/plain": [
       "{'DATE': ['THURSDAY 31OCT2019'],\n",
       " 'PART_NAME': ['radiator',\n",
       "  'gear cover',\n",
       "  'fan shroud',\n",
       "  'fan hub',\n",
       "  'reservoir',\n",
       "  'GEAR COVER'],\n",
       " 'PART_NUM': [430716600],\n",
       " 'TIMESTAMP': ['05:00:47 AM']}"
      ]
     },
     "execution_count": 6,
     "metadata": {},
     "output_type": "execute_result"
    }
   ],
   "source": [
    "entities = resp[\"output\"]\n",
    "entities"
   ]
  },
  {
   "cell_type": "markdown",
   "metadata": {},
   "source": [
    "## Dependency Parsing\n",
    "_REPLACE WITH DP TEAM MODEL_"
   ]
  },
  {
   "cell_type": "code",
   "execution_count": 7,
   "metadata": {},
   "outputs": [],
   "source": [
    "payload = {\n",
    "    \"text\" : sample,\n",
    "    \"deps\" : [\"amod\", \"ccomp\", \"acl\", \"nsubj\"]\n",
    "}\n",
    "\n",
    "url = \"http://127.0.0.1:5000/dp\"\n",
    "r = requests.post(url, data=json.dumps(payload), headers={\"content-type\":\"application/json; charset=utf-8\"})\n",
    "resp = json.loads(r.content.decode(\"utf-8\"))"
   ]
  },
  {
   "cell_type": "code",
   "execution_count": 8,
   "metadata": {},
   "outputs": [
    {
     "data": {
      "text/plain": [
       "{'EPR': ['GASKETLEAKS'],\n",
       " 'coolant': ['recovered', 'removed', 'drained'],\n",
       " 'cover': ['removed'],\n",
       " 'engine': ['cleaned'],\n",
       " 'found': ['idle', 'leaking'],\n",
       " 'hood': ['removed'],\n",
       " 'idle': ['high'],\n",
       " 'overlap': ['SRT010G900'],\n",
       " 'parts': ['removed'],\n",
       " 'ran': ['Freon'],\n",
       " 'reinstalled': ['cover'],\n",
       " 'repair': ['idle'],\n",
       " 'support': ['upper']}"
      ]
     },
     "execution_count": 8,
     "metadata": {},
     "output_type": "execute_result"
    }
   ],
   "source": [
    "dp_dict = resp[\"output\"]\n",
    "dp_dict"
   ]
  },
  {
   "cell_type": "markdown",
   "metadata": {},
   "source": [
    "## Map DP to NER"
   ]
  },
  {
   "cell_type": "code",
   "execution_count": 9,
   "metadata": {},
   "outputs": [],
   "source": [
    "payload = {\n",
    "    \"dp_dict\"  : dp_dict,\n",
    "    \"entities\" : entities\n",
    "}\n",
    "\n",
    "url = \"http://127.0.0.1:5000/map_dp_ner\"\n",
    "r = requests.post(url, data=json.dumps(payload), headers={\"content-type\":\"application/json; charset=utf-8\"})\n",
    "resp = json.loads(r.content.decode(\"utf-8\"))"
   ]
  },
  {
   "cell_type": "code",
   "execution_count": 10,
   "metadata": {},
   "outputs": [
    {
     "data": {
      "text/plain": [
       "{'gear cover': ['removed']}"
      ]
     },
     "execution_count": 10,
     "metadata": {},
     "output_type": "execute_result"
    }
   ],
   "source": [
    "dp_mapped = resp[\"output\"]\n",
    "dp_mapped"
   ]
  },
  {
   "cell_type": "markdown",
   "metadata": {},
   "source": [
    "## Polarity Analysis of Verbs"
   ]
  },
  {
   "cell_type": "code",
   "execution_count": 11,
   "metadata": {},
   "outputs": [],
   "source": [
    "params = {\n",
    "    \"input_dict\" : dp_mapped\n",
    "}\n",
    "\n",
    "polarity_ = polarity.predict_polarity(params)"
   ]
  },
  {
   "cell_type": "code",
   "execution_count": 12,
   "metadata": {},
   "outputs": [
    {
     "data": {
      "text/plain": [
       "{'non_positive_parts': ['gear cover'],\n",
       " 'polarity': {'gear cover': {'removed': 'Non-positive'}}}"
      ]
     },
     "execution_count": 12,
     "metadata": {},
     "output_type": "execute_result"
    }
   ],
   "source": [
    "polarity_"
   ]
  },
  {
   "cell_type": "code",
   "execution_count": 2,
   "metadata": {},
   "outputs": [],
   "source": []
  },
  {
   "cell_type": "markdown",
   "metadata": {},
   "source": [
    "## Named Entity Linking"
   ]
  },
  {
   "cell_type": "code",
   "execution_count": null,
   "metadata": {},
   "outputs": [],
   "source": []
  }
 ],
 "metadata": {
  "kernelspec": {
   "display_name": "Python 3",
   "language": "python",
   "name": "python3"
  },
  "language_info": {
   "codemirror_mode": {
    "name": "ipython",
    "version": 3
   },
   "file_extension": ".py",
   "mimetype": "text/x-python",
   "name": "python",
   "nbconvert_exporter": "python",
   "pygments_lexer": "ipython3",
   "version": "3.8.5"
  }
 },
 "nbformat": 4,
 "nbformat_minor": 5
}
