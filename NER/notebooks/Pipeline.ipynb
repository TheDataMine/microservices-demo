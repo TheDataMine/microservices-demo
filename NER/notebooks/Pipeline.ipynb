{
 "cells": [
  {
   "cell_type": "markdown",
   "metadata": {},
   "source": [
    "# NLP Pipeline\n",
    "## Justin A. Gould\n",
    "## April 2021"
   ]
  },
  {
   "cell_type": "markdown",
   "metadata": {},
   "source": [
    "# Required Packages"
   ]
  },
  {
   "cell_type": "code",
   "execution_count": 1,
   "metadata": {},
   "outputs": [
    {
     "name": "stdout",
     "output_type": "stream",
     "text": [
      "CPU times: user 6.97 s, sys: 3.64 s, total: 10.6 s\n",
      "Wall time: 30.7 s\n"
     ]
    }
   ],
   "source": [
    "%%time\n",
    "import sys\n",
    "import requests\n",
    "import json\n",
    "\n",
    "#System Path\n",
    "sys.path.append(\"../\")\n",
    "\n",
    "#NER Model\n",
    "from src import polarity, norma, utils"
   ]
  },
  {
   "cell_type": "markdown",
   "metadata": {},
   "source": [
    "# Sample Text"
   ]
  },
  {
   "cell_type": "code",
   "execution_count": 2,
   "metadata": {},
   "outputs": [],
   "source": [
    "sample = \"\"\"\n",
    "SRT010G900 overlap with 0305900SRT0807E00 overlap with 0305900SRT0706Z00 \\\n",
    "overlap with 0305900SRT0807E00 overlap with 010G900SRT0706Z00 overlap with \\\n",
    "010G900steam cleaned engine added dye and ran truck at high idle found gear \\\n",
    "cover leaking removed hood and bumper drained coolant recovered Freon removed \\\n",
    "coolant reservoir, ps reservoir, both radiator support, upper and lower rad hoses, \\\n",
    "radiator, ac compressor and bracket, alternator, fan, fan shroud, fan hub, removed \\\n",
    "and resealed gear cover reinstalled all removed parts refilled coolant and Freon ran \\\n",
    "truck at high idle no leaks repair completeOIL LEAK EXTERNALUPPER GEAR COVER GASKETLEAKS \\\n",
    "EPR Part Number:430716600 OIL1045962 THURSDAY 31OCT2019 05:00:47 AM\n",
    "\"\"\""
   ]
  },
  {
   "cell_type": "markdown",
   "metadata": {},
   "source": [
    "# Original"
   ]
  },
  {
   "cell_type": "markdown",
   "metadata": {},
   "source": [
    "## Run NER Model"
   ]
  },
  {
   "cell_type": "code",
   "execution_count": 13,
   "metadata": {},
   "outputs": [],
   "source": [
    "payload = {\n",
    "    \"text\"            : sample,\n",
    "    \"part_num_to_int\" : True\n",
    "}\n",
    "\n",
    "url = \"http://127.0.0.1:5000/ner\"\n",
    "r = requests.post(url, data=json.dumps(payload), headers={\"content-type\":\"application/json; charset=utf-8\"})\n",
    "resp = json.loads(r.content.decode(\"utf-8\"))"
   ]
  },
  {
   "cell_type": "code",
   "execution_count": 14,
   "metadata": {},
   "outputs": [
    {
     "data": {
      "text/plain": [
       "{'DATE': ['THURSDAY 31OCT2019'],\n",
       " 'PART_NAME': ['GEAR COVER',\n",
       "  'gear cover',\n",
       "  'radiator',\n",
       "  'reservoir',\n",
       "  'fan hub',\n",
       "  'fan shroud'],\n",
       " 'PART_NUM': [430716600],\n",
       " 'TIMESTAMP': ['05:00:47 AM']}"
      ]
     },
     "execution_count": 14,
     "metadata": {},
     "output_type": "execute_result"
    }
   ],
   "source": [
    "entities = resp[\"output\"]\n",
    "entities"
   ]
  },
  {
   "cell_type": "markdown",
   "metadata": {},
   "source": [
    "## Dependency Parsing\n",
    "_REPLACE WITH DP TEAM MODEL_"
   ]
  },
  {
   "cell_type": "code",
   "execution_count": 15,
   "metadata": {},
   "outputs": [],
   "source": [
    "payload = {\n",
    "    \"text\" : sample,\n",
    "    \"deps\" : [\"amod\", \"ccomp\", \"acl\", \"nsubj\"]\n",
    "}\n",
    "\n",
    "url = \"http://127.0.0.1:5000/dp\"\n",
    "r = requests.post(url, data=json.dumps(payload), headers={\"content-type\":\"application/json; charset=utf-8\"})\n",
    "resp = json.loads(r.content.decode(\"utf-8\"))"
   ]
  },
  {
   "cell_type": "code",
   "execution_count": 16,
   "metadata": {},
   "outputs": [
    {
     "data": {
      "text/plain": [
       "{'EPR': ['GASKETLEAKS'],\n",
       " 'coolant': ['drained', 'removed', 'recovered'],\n",
       " 'cover': ['removed'],\n",
       " 'engine': ['cleaned'],\n",
       " 'found': ['leaking', 'idle'],\n",
       " 'hood': ['removed'],\n",
       " 'idle': ['high'],\n",
       " 'overlap': ['SRT010G900'],\n",
       " 'parts': ['removed'],\n",
       " 'ran': ['Freon'],\n",
       " 'reinstalled': ['cover'],\n",
       " 'repair': ['idle'],\n",
       " 'support': ['upper']}"
      ]
     },
     "execution_count": 16,
     "metadata": {},
     "output_type": "execute_result"
    }
   ],
   "source": [
    "dp_dict = resp[\"output\"]\n",
    "dp_dict"
   ]
  },
  {
   "cell_type": "markdown",
   "metadata": {},
   "source": [
    "## Map DP to NER"
   ]
  },
  {
   "cell_type": "code",
   "execution_count": 17,
   "metadata": {},
   "outputs": [],
   "source": [
    "payload = {\n",
    "    \"dp_dict\"  : dp_dict,\n",
    "    \"entities\" : entities\n",
    "}\n",
    "\n",
    "url = \"http://127.0.0.1:5000/map_dp_ner\"\n",
    "r = requests.post(url, data=json.dumps(payload), headers={\"content-type\":\"application/json; charset=utf-8\"})\n",
    "resp = json.loads(r.content.decode(\"utf-8\"))"
   ]
  },
  {
   "cell_type": "code",
   "execution_count": 18,
   "metadata": {},
   "outputs": [
    {
     "data": {
      "text/plain": [
       "{'gear cover': ['removed']}"
      ]
     },
     "execution_count": 18,
     "metadata": {},
     "output_type": "execute_result"
    }
   ],
   "source": [
    "dp_mapped = resp[\"output\"]\n",
    "dp_mapped"
   ]
  },
  {
   "cell_type": "markdown",
   "metadata": {},
   "source": [
    "## Polarity Analysis of Verbs"
   ]
  },
  {
   "cell_type": "code",
   "execution_count": 19,
   "metadata": {},
   "outputs": [],
   "source": [
    "params = {\n",
    "    \"input_dict\" : dp_mapped\n",
    "}\n",
    "\n",
    "polarity_ = polarity.predict_polarity(params)"
   ]
  },
  {
   "cell_type": "code",
   "execution_count": 20,
   "metadata": {},
   "outputs": [
    {
     "data": {
      "text/plain": [
       "{'non_positive_parts': ['gear cover'],\n",
       " 'polarity': {'gear cover': {'removed': 'Non-positive'}}}"
      ]
     },
     "execution_count": 20,
     "metadata": {},
     "output_type": "execute_result"
    }
   ],
   "source": [
    "polarity_"
   ]
  },
  {
   "cell_type": "code",
   "execution_count": 22,
   "metadata": {},
   "outputs": [
    {
     "data": {
      "text/plain": [
       "['gear cover']"
      ]
     },
     "execution_count": 22,
     "metadata": {},
     "output_type": "execute_result"
    }
   ],
   "source": [
    "causal_part_candidates_IDC = polarity_[\"non_positive_parts\"]\n",
    "causal_part_candidates_IDC"
   ]
  },
  {
   "cell_type": "markdown",
   "metadata": {},
   "source": [
    "## Named Entity Linking"
   ]
  },
  {
   "cell_type": "code",
   "execution_count": 17,
   "metadata": {},
   "outputs": [],
   "source": [
    "#INSERT"
   ]
  },
  {
   "cell_type": "markdown",
   "metadata": {},
   "source": [
    "# Norma's Approach\n",
    "1. NER\n",
    "2. Polarity\n",
    "3. DP\n",
    "4. NEL"
   ]
  },
  {
   "cell_type": "markdown",
   "metadata": {},
   "source": [
    "### Named Entity Recognition"
   ]
  },
  {
   "cell_type": "code",
   "execution_count": 3,
   "metadata": {},
   "outputs": [],
   "source": [
    "payload = {\n",
    "    \"text\"            : sample,\n",
    "    \"part_num_to_int\" : True\n",
    "}\n",
    "\n",
    "url = \"http://127.0.0.1:5000/ner\"\n",
    "r = requests.post(url, data=json.dumps(payload), headers={\"content-type\":\"application/json; charset=utf-8\"})\n",
    "resp = json.loads(r.content.decode(\"utf-8\"))"
   ]
  },
  {
   "cell_type": "code",
   "execution_count": 4,
   "metadata": {},
   "outputs": [
    {
     "data": {
      "text/plain": [
       "{'DATE': ['THURSDAY 31OCT2019'],\n",
       " 'PART_NAME': ['GEAR COVER',\n",
       "  'gear cover',\n",
       "  'radiator',\n",
       "  'reservoir',\n",
       "  'fan hub',\n",
       "  'fan shroud'],\n",
       " 'PART_NUM': [430716600],\n",
       " 'TIMESTAMP': ['05:00:47 AM']}"
      ]
     },
     "execution_count": 4,
     "metadata": {},
     "output_type": "execute_result"
    }
   ],
   "source": [
    "entities = resp[\"output\"]\n",
    "entities"
   ]
  },
  {
   "cell_type": "markdown",
   "metadata": {},
   "source": [
    "### Polarity Analysis"
   ]
  },
  {
   "cell_type": "code",
   "execution_count": 5,
   "metadata": {},
   "outputs": [],
   "source": [
    "params = {\n",
    "    \"text\" : sample\n",
    "}\n",
    "\n",
    "polarities = norma.norma_polarity(params)"
   ]
  },
  {
   "cell_type": "code",
   "execution_count": 6,
   "metadata": {},
   "outputs": [
    {
     "name": "stdout",
     "output_type": "stream",
     "text": [
      "{'negative_words': ['overlap', 'removed', 'gear', 'cover', 'coolant', '\\n', '0305900srt0807e00', 'ran', 'truck', 'high', 'idle', 'freon', 'reservoir', 'radiator', 'srt010g900', '0305900srt0706z00', '010g900srt0706z00', '010g900steam', 'cleaned', 'engine', 'added', 'dye', 'leaking', 'hood', 'bumper', 'drained', 'recovered', 'ps', 'support', 'upper', 'lower', 'rad', 'hoses', 'ac', 'compressor', 'bracket', 'alternator', 'shroud', 'hub', 'resealed', 'reinstalled', 'all', 'refilled', 'leaks', 'repair', 'completeoil', 'leak', 'externalupper', 'gasketleaks', 'epr', 'number:430716600', 'oil1045962', 'thursday', '31oct2019', '05:00:47', 'am'], 'polarities': {',': 'pos', 'and': 'pos', 'overlap': 'neg', 'with': 'pos', 'removed': 'neg', 'gear': 'neg', 'cover': 'neg', 'coolant': 'neg', 'fan': 'pos', '\\n': 'neg', '0305900srt0807e00': 'neg', 'ran': 'neg', 'truck': 'neg', 'at': 'pos', 'high': 'neg', 'idle': 'neg', 'freon': 'neg', 'reservoir': 'neg', 'radiator': 'neg', 'srt010g900': 'neg', '0305900srt0706z00': 'neg', '010g900srt0706z00': 'neg', '010g900steam': 'neg', 'cleaned': 'neg', 'engine': 'neg', 'added': 'neg', 'dye': 'neg', 'found': 'pos', 'leaking': 'neg', 'hood': 'neg', 'bumper': 'neg', 'drained': 'neg', 'recovered': 'neg', 'ps': 'neg', 'both': 'pos', 'support': 'neg', 'upper': 'neg', 'lower': 'neg', 'rad': 'neg', 'hoses': 'neg', 'ac': 'neg', 'compressor': 'neg', 'bracket': 'neg', 'alternator': 'neg', 'shroud': 'neg', 'hub': 'neg', 'resealed': 'neg', 'reinstalled': 'neg', 'all': 'neg', 'parts': 'pos', 'refilled': 'neg', 'no': 'pos', 'leaks': 'neg', 'repair': 'neg', 'completeoil': 'neg', 'leak': 'neg', 'externalupper': 'neg', 'gasketleaks': 'neg', 'epr': 'neg', 'part': 'pos', 'number:430716600': 'neg', 'oil1045962': 'neg', 'thursday': 'neg', '31oct2019': 'neg', '05:00:47': 'neg', 'am': 'neg'}}\n"
     ]
    }
   ],
   "source": [
    "print(polarities)"
   ]
  },
  {
   "cell_type": "markdown",
   "metadata": {},
   "source": [
    "### Dependency Parsing"
   ]
  },
  {
   "cell_type": "code",
   "execution_count": 7,
   "metadata": {},
   "outputs": [],
   "source": [
    "payload = {\n",
    "    \"text\" : sample,\n",
    "    \"deps\" : [\"amod\", \"ccomp\", \"acl\", \"nsubj\"]\n",
    "}\n",
    "\n",
    "url = \"http://127.0.0.1:5000/dp\"\n",
    "r = requests.post(url, data=json.dumps(payload), headers={\"content-type\":\"application/json; charset=utf-8\"})\n",
    "resp = json.loads(r.content.decode(\"utf-8\"))"
   ]
  },
  {
   "cell_type": "code",
   "execution_count": 8,
   "metadata": {},
   "outputs": [
    {
     "data": {
      "text/plain": [
       "{'EPR': ['GASKETLEAKS'],\n",
       " 'coolant': ['drained', 'removed', 'recovered'],\n",
       " 'cover': ['removed'],\n",
       " 'engine': ['cleaned'],\n",
       " 'found': ['leaking', 'idle'],\n",
       " 'hood': ['removed'],\n",
       " 'idle': ['high'],\n",
       " 'overlap': ['SRT010G900'],\n",
       " 'parts': ['removed'],\n",
       " 'ran': ['Freon'],\n",
       " 'reinstalled': ['cover'],\n",
       " 'repair': ['idle'],\n",
       " 'support': ['upper']}"
      ]
     },
     "execution_count": 8,
     "metadata": {},
     "output_type": "execute_result"
    }
   ],
   "source": [
    "dp_dict = resp[\"output\"]\n",
    "dp_dict"
   ]
  },
  {
   "cell_type": "markdown",
   "metadata": {},
   "source": [
    "### Map Polarity Analysis and Dependency Parsing/NER"
   ]
  },
  {
   "cell_type": "code",
   "execution_count": 9,
   "metadata": {},
   "outputs": [],
   "source": [
    "#Step 1: NER and DP\n",
    "payload = {\n",
    "    \"dp_dict\"  : dp_dict,\n",
    "    \"entities\" : entities\n",
    "}\n",
    "\n",
    "url = \"http://127.0.0.1:5000/map_dp_ner\"\n",
    "r = requests.post(url, data=json.dumps(payload), headers={\"content-type\":\"application/json; charset=utf-8\"})\n",
    "resp = json.loads(r.content.decode(\"utf-8\"))"
   ]
  },
  {
   "cell_type": "code",
   "execution_count": 10,
   "metadata": {},
   "outputs": [
    {
     "data": {
      "text/plain": [
       "{'gear cover': ['removed']}"
      ]
     },
     "execution_count": 10,
     "metadata": {},
     "output_type": "execute_result"
    }
   ],
   "source": [
    "dp_mapped = resp[\"output\"]\n",
    "dp_mapped"
   ]
  },
  {
   "cell_type": "code",
   "execution_count": 21,
   "metadata": {},
   "outputs": [
    {
     "data": {
      "text/plain": [
       "['gear cover']"
      ]
     },
     "execution_count": 21,
     "metadata": {},
     "output_type": "execute_result"
    }
   ],
   "source": [
    "#Step 2: DP Mapped and Polarity\n",
    "causal_part_candidates_NORMA = utils.dp_and_pa_norma_map(dp_mapped, polarities)\n",
    "causal_part_candidates_NORMA"
   ]
  },
  {
   "cell_type": "markdown",
   "metadata": {},
   "source": [
    "### Named Entity Linking"
   ]
  },
  {
   "cell_type": "code",
   "execution_count": 14,
   "metadata": {},
   "outputs": [],
   "source": [
    "#INSERT"
   ]
  }
 ],
 "metadata": {
  "kernelspec": {
   "display_name": "Python 3",
   "language": "python",
   "name": "python3"
  },
  "language_info": {
   "codemirror_mode": {
    "name": "ipython",
    "version": 3
   },
   "file_extension": ".py",
   "mimetype": "text/x-python",
   "name": "python",
   "nbconvert_exporter": "python",
   "pygments_lexer": "ipython3",
   "version": "3.8.5"
  }
 },
 "nbformat": 4,
 "nbformat_minor": 5
}
