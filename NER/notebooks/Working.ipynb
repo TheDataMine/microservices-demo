{
 "cells": [
  {
   "cell_type": "markdown",
   "id": "innocent-mistake",
   "metadata": {},
   "source": [
    "# Named Entity Recognition Demo\n",
    "## Justin A. Gould\n",
    "## March 2021"
   ]
  },
  {
   "cell_type": "markdown",
   "id": "chubby-scene",
   "metadata": {},
   "source": [
    "# Required Packages"
   ]
  },
  {
   "cell_type": "code",
   "execution_count": 63,
   "id": "presidential-lighter",
   "metadata": {},
   "outputs": [],
   "source": [
    "import spacy\n",
    "import os\n",
    "import re"
   ]
  },
  {
   "cell_type": "markdown",
   "id": "challenging-couple",
   "metadata": {},
   "source": [
    "# Set up NER Model from Prodigy Training"
   ]
  },
  {
   "cell_type": "code",
   "execution_count": 64,
   "id": "presidential-garlic",
   "metadata": {},
   "outputs": [],
   "source": [
    "base = \"C:\\\\Users\\\\sf781\\\\Desktop\\\\Cummins Annotation Data\"\n",
    "model = \"tmp_model_14\"\n",
    "model_path = os.path.join(base, model)\n",
    "\n",
    "nlp = spacy.load(model_path)"
   ]
  },
  {
   "cell_type": "code",
   "execution_count": 65,
   "id": "micro-reset",
   "metadata": {},
   "outputs": [
    {
     "data": {
      "text/plain": [
       "'C:\\\\Users\\\\sf781\\\\Desktop\\\\Cummins Annotation Data\\\\tmp_model_14'"
      ]
     },
     "execution_count": 65,
     "metadata": {},
     "output_type": "execute_result"
    }
   ],
   "source": [
    "model_path"
   ]
  },
  {
   "cell_type": "code",
   "execution_count": 66,
   "id": "bottom-treatment",
   "metadata": {},
   "outputs": [
    {
     "data": {
      "text/plain": [
       "<spacy.lang.en.English at 0x23f82f2ad60>"
      ]
     },
     "execution_count": 66,
     "metadata": {},
     "output_type": "execute_result"
    }
   ],
   "source": [
    "nlp"
   ]
  },
  {
   "cell_type": "markdown",
   "id": "miniature-requirement",
   "metadata": {},
   "source": [
    "# Run Model"
   ]
  },
  {
   "cell_type": "code",
   "execution_count": 77,
   "id": "crude-leather",
   "metadata": {},
   "outputs": [],
   "source": [
    "#Sample Example\n",
    "sample = \"Go to QSOL Warranty Click on Request Core Return Process**replaced faulty aftrtmnt diff press sensor EPR Part Number:430716600 Tracking Number:609213880257. CHECK ENGINE LIGHT - YELLOW AFTERTREATMENT DPF DIFFERENTIAL PRESSURE SENSOR-SHORTED (ELECTRICAL ONLY) 16139MPATRICK\""
   ]
  },
  {
   "cell_type": "code",
   "execution_count": 78,
   "id": "retained-mongolia",
   "metadata": {},
   "outputs": [
    {
     "name": "stdout",
     "output_type": "stream",
     "text": [
      "Go to QSOL Warranty Click on Request Core Return Process**replaced faulty aftrtmnt diff press sensor EPR Part Number:430716600 Tracking Number:609213880257. CHECK ENGINE LIGHT - YELLOW AFTERTREATMENT DPF DIFFERENTIAL PRESSURE SENSOR-SHORTED (ELECTRICAL ONLY) 16139MPATRICK\n"
     ]
    }
   ],
   "source": [
    "print(sample)"
   ]
  },
  {
   "cell_type": "code",
   "execution_count": 79,
   "id": "fifteen-margin",
   "metadata": {},
   "outputs": [],
   "source": [
    "doc = nlp(sample)"
   ]
  },
  {
   "cell_type": "code",
   "execution_count": 80,
   "id": "legal-astrology",
   "metadata": {},
   "outputs": [
    {
     "data": {
      "text/plain": [
       "Go to QSOL Warranty Click on Request Core Return Process**replaced faulty aftrtmnt diff press sensor EPR Part Number:430716600 Tracking Number:609213880257. CHECK ENGINE LIGHT - YELLOW AFTERTREATMENT DPF DIFFERENTIAL PRESSURE SENSOR-SHORTED (ELECTRICAL ONLY) 16139MPATRICK"
      ]
     },
     "execution_count": 80,
     "metadata": {},
     "output_type": "execute_result"
    }
   ],
   "source": [
    "doc"
   ]
  },
  {
   "cell_type": "code",
   "execution_count": 81,
   "id": "deluxe-cement",
   "metadata": {},
   "outputs": [
    {
     "data": {
      "text/plain": [
       "(press sensor, Number:430716600, PRESSURE SENSOR)"
      ]
     },
     "execution_count": 81,
     "metadata": {},
     "output_type": "execute_result"
    }
   ],
   "source": [
    "doc.ents"
   ]
  },
  {
   "cell_type": "code",
   "execution_count": 89,
   "id": "revolutionary-bankruptcy",
   "metadata": {},
   "outputs": [
    {
     "name": "stdout",
     "output_type": "stream",
     "text": [
      "PART_NAME press sensor\n",
      "PART_NUM Number:430716600\n",
      "PART_NAME PRESSURE SENSOR\n"
     ]
    }
   ],
   "source": [
    "for ent in doc.ents:\n",
    "    print(ent.label_, ent.text)"
   ]
  },
  {
   "cell_type": "code",
   "execution_count": 90,
   "id": "varying-senior",
   "metadata": {},
   "outputs": [
    {
     "name": "stdout",
     "output_type": "stream",
     "text": [
      "{'PART_NAME': ['press sensor']}\n",
      "{'PART_NAME': ['press sensor'], 'PART_NUM': [430716600]}\n",
      "{'PART_NAME': ['press sensor', 'PRESSURE SENSOR'], 'PART_NUM': [430716600]}\n"
     ]
    }
   ],
   "source": [
    "part_num_to_int = True\n",
    "\n",
    "data = {}\n",
    "for ent in doc.ents:\n",
    "    #Preprocess entity text------\n",
    "    text = ent.text\n",
    "    \n",
    "    #For PART_NUMBER, extract only the numbers\n",
    "    if ent.label_ == \"PART_NUM\":\n",
    "        text = \"\".join(re.findall(r'\\d+', text))\n",
    "        if part_num_to_int:\n",
    "            text = int(text)\n",
    "    \n",
    "    #Block to append to dictionary------\n",
    "    #Existing label append to list...\n",
    "    if ent.label_ in data:\n",
    "        data[ent.label_].append(text)\n",
    "    \n",
    "    #If label does not exist, create\n",
    "    else:\n",
    "        data[ent.label_] = [text]\n",
    "    \n",
    "    print(data)"
   ]
  },
  {
   "cell_type": "code",
   "execution_count": 88,
   "id": "mounted-trailer",
   "metadata": {},
   "outputs": [
    {
     "name": "stdout",
     "output_type": "stream",
     "text": [
      "{'PART_NAME': ['press sensor', 'PRESSURE SENSOR'], 'PART_NUM': [430716600]}\n"
     ]
    }
   ],
   "source": [
    "print(data)"
   ]
  },
  {
   "cell_type": "code",
   "execution_count": 60,
   "id": "related-baseline",
   "metadata": {},
   "outputs": [],
   "source": [
    "def ner(text, part_num_to_int=True, nlp=nlp):\n",
    "    \"\"\"\n",
    "    Description:\n",
    "        Wrapper to run the Purdue Digital Crossroads NER model on Cummins service text.\n",
    "    \n",
    "    Input:\n",
    "     - text (str):             Input service text, as decoded (utf-8) text\n",
    "     - part_num_to_int (bool): If a part number is extracted, should it remain a str or convert to int?\n",
    "     - nlp (SpaCy model):      Loaded SpaCy model - NER from Prodigy-trained checkpoint\n",
    "    \n",
    "    Output:\n",
    "        {\n",
    "            entity_name: [list, of, extracted, entities],\n",
    "            entity_name: [list, of, extracted, entities],\n",
    "            ...\n",
    "        }\n",
    "    \"\"\"\n",
    "    \n",
    "    #Run Model\n",
    "    doc = nlp(text)\n",
    "    \n",
    "    #Parse------\n",
    "    data = {}\n",
    "    for ent in doc.ents:\n",
    "        #Preprocess entity text------\n",
    "        ent_text = ent.text\n",
    "        #LABEL in TEXT\n",
    "        ent_text = ent_text.replace(ent.label_, \"\")\n",
    "\n",
    "        #For PART_NUMBER, extract only the numbers\n",
    "        if ent.label_ == \"PART_NUM\":\n",
    "            ent_text = \"\".join(re.findall(r'\\d+', ent_text))\n",
    "            if part_num_to_int:\n",
    "                ent_text = int(ent_text)\n",
    "\n",
    "        #Block to append to dictionary------\n",
    "        #Existing label append to list...\n",
    "        if ent.label_ in data:\n",
    "            data[ent.label_].append(ent_text)\n",
    "\n",
    "        #If label does not exist, create\n",
    "        else:\n",
    "            data[ent.label_] = [ent_text]\n",
    "    \n",
    "    return data"
   ]
  },
  {
   "cell_type": "code",
   "execution_count": 61,
   "id": "timely-failing",
   "metadata": {},
   "outputs": [],
   "source": [
    "sample = \"\"\"\n",
    "SRT010G900 overlap with 0305900SRT0807E00 overlap with 0305900SRT0706Z00 \\\n",
    "overlap with 0305900SRT0807E00 overlap with 010G900SRT0706Z00 overlap with \\\n",
    "010G900steam cleaned engine added dye and ran truck at high idle found gear \\\n",
    "cover leaking removed hood and bumper drained coolant recovered Freon removed \\\n",
    "coolant reservoir, ps reservoir, both radiator support, upper and lower rad hoses, \\\n",
    "radiator, ac compressor and bracket, alternator, fan, fan shroud, fan hub, removed \\\n",
    "and resealed gear cover reinstalled all removed parts refilled coolant and Freon ran \\\n",
    "truck at high idle no leaks repair completeOIL LEAK EXTERNALUPPER GEAR COVER GASKETLEAKS \\\n",
    "OIL1045962 THURSDAY 31OCT2019 05:00:47 AM\n",
    "\"\"\""
   ]
  },
  {
   "cell_type": "code",
   "execution_count": 62,
   "id": "ahead-bermuda",
   "metadata": {},
   "outputs": [
    {
     "data": {
      "text/plain": [
       "{'PART_NAME': ['gear cover',\n",
       "  'reservoir',\n",
       "  'reservoir',\n",
       "  'radiator',\n",
       "  'fan shroud',\n",
       "  'fan hub',\n",
       "  'gear cover',\n",
       "  'GEAR COVER'],\n",
       " 'DATE': ['THURSDAY 31OCT2019'],\n",
       " 'TIMESTAMP': ['05:00:47 AM']}"
      ]
     },
     "execution_count": 62,
     "metadata": {},
     "output_type": "execute_result"
    }
   ],
   "source": [
    "ner(sample)"
   ]
  },
  {
   "cell_type": "code",
   "execution_count": null,
   "id": "invalid-block",
   "metadata": {},
   "outputs": [],
   "source": []
  }
 ],
 "metadata": {
  "kernelspec": {
   "display_name": "Python 3",
   "language": "python",
   "name": "python3"
  },
  "language_info": {
   "codemirror_mode": {
    "name": "ipython",
    "version": 3
   },
   "file_extension": ".py",
   "mimetype": "text/x-python",
   "name": "python",
   "nbconvert_exporter": "python",
   "pygments_lexer": "ipython3",
   "version": "3.8.5"
  }
 },
 "nbformat": 4,
 "nbformat_minor": 5
}
