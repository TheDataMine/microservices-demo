{
 "cells": [
  {
   "cell_type": "markdown",
   "metadata": {},
   "source": [
    "# Polarity Analysis Model Demo\n",
    "\n",
    "## Kevin Tian, Pranav Dantu, Claudia Duncan\n",
    "\n",
    "### March 2021"
   ]
  },
  {
   "cell_type": "markdown",
   "metadata": {},
   "source": [
    "## Importing Model"
   ]
  },
  {
   "cell_type": "code",
   "execution_count": 1,
   "metadata": {},
   "outputs": [],
   "source": [
    "import sys\n",
    "sys.path.append(\"/Users/gould29/OneDrive - purdue.edu/GitHub/microservices-demo/NER/\")\n",
    "\n",
    "from src import polarity"
   ]
  },
  {
   "cell_type": "markdown",
   "metadata": {},
   "source": [
    "# JG Example"
   ]
  },
  {
   "cell_type": "code",
   "execution_count": 2,
   "metadata": {},
   "outputs": [
    {
     "data": {
      "text/plain": [
       "{'non_positive_parts': ['shroud', 'gear cover'],\n",
       " 'polarity': {'gear cover': {'removed': 'Non-positive',\n",
       "   'leaking': 'Non-positive'},\n",
       "  'shroud': {'cleaned': 'Non-positive', 'polished': 'Positive'}}}"
      ]
     },
     "execution_count": 2,
     "metadata": {},
     "output_type": "execute_result"
    }
   ],
   "source": [
    "params = {\n",
    "    \"input_dict\" : {'gear cover': ['removed', \"leaking\"], \"shroud\": [\"cleaned\", \"polished\"]}\n",
    "}\n",
    "\n",
    "polarity.predict_polarity(params)"
   ]
  },
  {
   "cell_type": "code",
   "execution_count": 3,
   "metadata": {},
   "outputs": [
    {
     "data": {
      "text/plain": [
       "{'non_positive_parts': ['gear cover'],\n",
       " 'polarity': {'gear cover': {'removed': 'Non-positive'}}}"
      ]
     },
     "execution_count": 3,
     "metadata": {},
     "output_type": "execute_result"
    }
   ],
   "source": [
    "params = {\n",
    "    \"input_dict\" : {'gear cover': ['removed']}\n",
    "}\n",
    "\n",
    "polarity.predict_polarity(params)"
   ]
  },
  {
   "cell_type": "markdown",
   "metadata": {},
   "source": [
    "## Polarity Examples"
   ]
  },
  {
   "cell_type": "markdown",
   "metadata": {},
   "source": [
    "### From Dependency Parsing Team, using \"sample1\" text:\n",
    "\n",
    "<code>sample1 = \"Replaced broken gasket, failed sensor, leaking o-ring, and busted block.\"</code>"
   ]
  },
  {
   "cell_type": "code",
   "execution_count": 2,
   "metadata": {},
   "outputs": [
    {
     "data": {
      "text/plain": [
       "{'broken': 'Negative',\n",
       " 'failed': 'Negative',\n",
       " 'leaking': 'Negative',\n",
       " 'busted': 'Negative'}"
      ]
     },
     "execution_count": 2,
     "metadata": {},
     "output_type": "execute_result"
    }
   ],
   "source": [
    "params = {\n",
    "    \"broken\":\"Replaced broken gasket, failed sensor, leaking o-ring, and busted block.\",\n",
    "    \"failed\":\"Replaced broken gasket, failed sensor, leaking o-ring, and busted block.\",\n",
    "    \"leaking\":\"Replaced broken gasket, failed sensor, leaking o-ring, and busted block.\",\n",
    "    \"busted\":\"Replaced broken gasket, failed sensor, leaking o-ring, and busted block.\"\n",
    "}\n",
    "\n",
    "model.predict_polarity(params)"
   ]
  },
  {
   "cell_type": "markdown",
   "metadata": {},
   "source": [
    "### From Dependency Parsing Team, using \"sample2\" text:\n",
    "\n",
    "<code>sample2 = \"cel on - ck'd codes with insite - code 3933 active - began eds - no other faults. remove pass side  fairing to inspect & connectors. eds led to faulty nh3 sensor. replaced nh3 sensor. began regen - during regen codes 3681 & 3682 & 3933 became active. problem is oem issue - reinstall original nh3 sensor. advised customer to take to an international dealer. CHECK ENGINE LIGHT - YELLOW NH3 AMMONIA SENSOR PROBE - FAULT LAMP.\"</code>"
   ]
  },
  {
   "cell_type": "code",
   "execution_count": 3,
   "metadata": {},
   "outputs": [
    {
     "data": {
      "text/plain": [
       "{'faults': 'Negative', 'active': 'Positive', 'regen': 'Positive'}"
      ]
     },
     "execution_count": 3,
     "metadata": {},
     "output_type": "execute_result"
    }
   ],
   "source": [
    "params = {\n",
    "    \"faults\":\"cel on - ck'd codes with insite - code 3933 active - began eds - no other faults.\",\n",
    "    \"active\":\"cel on - ck'd codes with insite - code 3933 active - began eds - no other faults.\",\n",
    "    \"regen\":\"began regen - during regen codes 3681 & 3682 & 3933 became active.\",\n",
    "}\n",
    "\n",
    "model.predict_polarity(params)"
   ]
  },
  {
   "cell_type": "markdown",
   "metadata": {},
   "source": [
    "### Alternative Example:  "
   ]
  },
  {
   "cell_type": "code",
   "execution_count": 4,
   "metadata": {},
   "outputs": [
    {
     "data": {
      "text/plain": [
       "{'awesome': 'Positive', 'failure': 'Negative'}"
      ]
     },
     "execution_count": 4,
     "metadata": {},
     "output_type": "execute_result"
    }
   ],
   "source": [
    "params = {\n",
    "    \"awesome\":\"This is awesome!\",\n",
    "    \"failure\":\"There was an engine failure.\"\n",
    "}\n",
    "\n",
    "model.predict_polarity(params)"
   ]
  },
  {
   "cell_type": "code",
   "execution_count": null,
   "metadata": {},
   "outputs": [],
   "source": []
  }
 ],
 "metadata": {
  "kernelspec": {
   "display_name": "Python 3",
   "language": "python",
   "name": "python3"
  },
  "language_info": {
   "codemirror_mode": {
    "name": "ipython",
    "version": 3
   },
   "file_extension": ".py",
   "mimetype": "text/x-python",
   "name": "python",
   "nbconvert_exporter": "python",
   "pygments_lexer": "ipython3",
   "version": "3.8.5"
  }
 },
 "nbformat": 4,
 "nbformat_minor": 4
}
